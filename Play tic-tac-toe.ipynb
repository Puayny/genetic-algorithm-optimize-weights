{
 "cells": [
  {
   "cell_type": "code",
   "execution_count": 9,
   "metadata": {
    "collapsed": true
   },
   "outputs": [],
   "source": [
    "from tic_tac_toe import TicTacToe\n",
    "from neural_network import NeuralNetwork\n",
    "\n",
    "import numpy as np\n",
    "import random\n",
    "import math\n",
    "import copy\n",
    "import time\n",
    "from IPython.display import clear_output"
   ]
  },
  {
   "cell_type": "code",
   "execution_count": 10,
   "metadata": {
    "collapsed": true
   },
   "outputs": [],
   "source": [
    "def init_pred_to_cell():\n",
    "    #map prediction to cell coords\n",
    "    pred_to_cell = {}\n",
    "    for i in range(3):\n",
    "        for j in range(3):\n",
    "            pred_to_cell[i*3 + j] = (i, j)\n",
    "    return pred_to_cell\n",
    "pred_to_cell = init_pred_to_cell()"
   ]
  },
  {
   "cell_type": "code",
   "execution_count": 11,
   "metadata": {
    "collapsed": true
   },
   "outputs": [],
   "source": [
    "def init_ppn(ppn_num, layer_dims, random_weights=True):\n",
    "    return [NeuralNetwork(layer_dims, random_weights) for i in range(ppn_num)]\n",
    "\n",
    "def make_single_move(nn, ttt, verbose=False):\n",
    "    pred_move = nn.predict(ttt.get_vector_repr()).reshape(1,9)\n",
    "    pred_move = np.argsort(-pred_move)\n",
    "    \n",
    "    for pred in pred_move[0]:\n",
    "        pred = pred_to_cell[pred]\n",
    "        if ttt.is_valid_move(pred[0], pred[1]):\n",
    "            ttt.make_move(pred[0], pred[1])\n",
    "            if verbose:\n",
    "                print(ttt)\n",
    "            return\n",
    "\n",
    "def play_single_game(nn1, nn2):\n",
    "    ttt = TicTacToe('X')\n",
    "    nn = [nn1, nn2]\n",
    "    ttt.make_move(random.randint(0,2), random.randint(0,2))\n",
    "    curr_nn_idx = 1\n",
    "    while ttt.get_game_status()==0:\n",
    "        curr_nn = nn[curr_nn_idx]\n",
    "        make_single_move(curr_nn, ttt)\n",
    "        curr_nn_idx = (curr_nn_idx+1) % 2\n",
    "    return ttt.get_game_status()\n",
    "    \n",
    "def play_single_game_update_score(nn1, nn2, score, playerX, playerO):\n",
    "    res = play_single_game(nn1, nn2)\n",
    "    if res==1:\n",
    "        score[playerX] += 1\n",
    "        score[playerO] -= 1\n",
    "    if res==2:\n",
    "        score[playerX] -= 1\n",
    "        score[playerO] += 1\n",
    "\n",
    "def play_all_opponents(nn):\n",
    "    '''\n",
    "    nn: an array of nn to play against each other\n",
    "    '''\n",
    "    score = [0 for i in range(len(nn))]\n",
    "    for i in range(len(nn)-1):\n",
    "        for j in range(i+1 , len(nn)):\n",
    "            play_single_game_update_score(nn[i], nn[j], score, i, j)\n",
    "            play_single_game_update_score(nn[j], nn[i], score, j, i)\n",
    "    return score\n"
   ]
  },
  {
   "cell_type": "code",
   "execution_count": 12,
   "metadata": {
    "collapsed": true
   },
   "outputs": [],
   "source": [
    "def random_mutate(ppn, mutate_chance_ppn, mutate_chance_indiv):\n",
    "    for idx_indiv in range(2, len(ppn)):\n",
    "        if random.random() < mutate_chance_ppn:\n",
    "            random_mutate_indiv(ppn[idx_indiv], mutate_chance_indiv)\n",
    "    return ppn\n",
    "\n",
    "def random_mutate_indiv(indiv, mutate_chance_indiv):\n",
    "    for weight in indiv.weights:\n",
    "        for row in range(weight.shape[0]):\n",
    "            for col in range(weight.shape[1]):\n",
    "                if random.random() < mutate_chance_indiv:\n",
    "                    sd = max(weight[row, col]/2, 0.1)\n",
    "                    weight[row, col] += random.gauss(0, sd)\n",
    "    for bias in indiv.bias:\n",
    "        for row in range(bias.shape[0]):\n",
    "            if random.random() < mutate_chance_indiv:\n",
    "                sd = max(bias[row]/2, 0.1)\n",
    "                bias[row] += random.gauss(0, sd)\n",
    "    return indiv\n"
   ]
  },
  {
   "cell_type": "code",
   "execution_count": 13,
   "metadata": {
    "collapsed": true
   },
   "outputs": [],
   "source": [
    "def crossover_remainder(ppn, target_ppn_total):\n",
    "    import copy\n",
    "    new_ppn = []\n",
    "    num_indiv_to_generate = target_ppn_total - len(ppn)\n",
    "    \n",
    "    while len(new_ppn) < num_indiv_to_generate:\n",
    "        male_idx = random.randint(0, len(ppn)-1)\n",
    "        female_idx = random.randint(0, len(ppn)-1)\n",
    "        if male_idx != female_idx:\n",
    "            num_hidden_nodes = ppn[0].layers_num_nodes[1]\n",
    "\n",
    "            num_to_crossover = random.randint(1,num_hidden_nodes-1)\n",
    "\n",
    "            male_idx_to_crossover = random.sample(range(num_hidden_nodes), num_to_crossover)\n",
    "            female_idx_to_crossover = random.sample(range(num_hidden_nodes), num_to_crossover)\n",
    "\n",
    "            child_nn = copy.deepcopy(ppn[male_idx])\n",
    "            female_nn = copy.deepcopy(ppn[female_idx])\n",
    "            for i in range(len(male_idx_to_crossover)):\n",
    "                curr_child_idx_to_crossover = male_idx_to_crossover[i]\n",
    "                curr_female_idx_to_crossover = female_idx_to_crossover[i]\n",
    "                child_nn.weights[0][curr_child_idx_to_crossover] = female_nn.weights[0][curr_female_idx_to_crossover]\n",
    "                child_nn.bias[0][curr_child_idx_to_crossover] = female_nn.bias[0][curr_female_idx_to_crossover]\n",
    "                child_nn.weights[1][:,curr_child_idx_to_crossover] = female_nn.weights[1][:,curr_female_idx_to_crossover]\n",
    "            new_ppn.append(child_nn)\n",
    "    return new_ppn\n"
   ]
  },
  {
   "cell_type": "code",
   "execution_count": 14,
   "metadata": {
    "collapsed": true
   },
   "outputs": [],
   "source": [
    "def choose_top_n_percent(ppn, idx_top, survival_chance_top):\n",
    "    num_survive = math.floor(len(ppn) * survival_chance_top)\n",
    "    idx_survive = idx_top[:num_survive]\n",
    "    return [ppn[idx] for idx in idx_survive]\n",
    "\n",
    "def random_select_for_survival(ppn, idx_top, survival_chance_top, survival_chance_remainder):\n",
    "    num_survive_top = math.floor(len(ppn) * survival_chance_top)\n",
    "    idx_remainder = idx_top[num_survive_top:]\n",
    "    selected_for_survival = []\n",
    "    for idx in idx_remainder:\n",
    "        if survival_chance_remainder > random.random():\n",
    "            selected_for_survival.append(ppn[idx])\n",
    "    return selected_for_survival\n",
    "\n",
    "def random_generate_new(ppn, new_ppn, layer_dims, num_new_generate):\n",
    "    if len(ppn) - len(new_ppn)>20:\n",
    "        return init_ppn(num_new_generate, layer_dims)\n",
    "    else:\n",
    "        return []"
   ]
  },
  {
   "cell_type": "code",
   "execution_count": 15,
   "metadata": {},
   "outputs": [],
   "source": [
    "def evolve(ppn, survival_chance_top, survival_chance_remainder, layer_dims, num_new_generate, mutate_chance_ppn, mutate_chance_indiv, verbose=False):\n",
    "    ppn = copy.deepcopy(ppn)\n",
    "    new_ppn = []\n",
    "    \n",
    "    scores = play_all_opponents(ppn)\n",
    "    scores_sorted_idx = np.array(scores).argsort()[-1::-1]\n",
    "    \n",
    "    new_ppn.extend(choose_top_n_percent(ppn, scores_sorted_idx, survival_chance_top))\n",
    "    new_ppn.extend(random_select_for_survival(ppn, scores_sorted_idx, survival_chance_top, survival_chance_remainder))\n",
    "    new_ppn.extend(random_generate_new(ppn, new_ppn, layer_dims, num_new_generate))\n",
    "    new_ppn.extend(crossover_remainder(new_ppn, len(ppn)))\n",
    "    new_ppn = random_mutate(new_ppn, mutate_chance_ppn, mutate_chance_indiv)\n",
    "\n",
    "    return new_ppn\n"
   ]
  },
  {
   "cell_type": "code",
   "execution_count": 73,
   "metadata": {},
   "outputs": [
    {
     "name": "stdout",
     "output_type": "stream",
     "text": [
      "Evolution round 0\n",
      "Evolution round 20\n",
      "Evolution round 40\n",
      "Evolution round 60\n",
      "Evolution round 80\n",
      "Evolution round 100\n",
      "Evolution round 120\n",
      "Evolution round 140\n",
      "Evolution round 160\n",
      "Evolution round 180\n"
     ]
    }
   ],
   "source": [
    "#Fitness of each network, in each evolution, is determined by a round-robin match between 40 neural networks.\n",
    "\n",
    "ppn = init_ppn(40, [18,128,9], random_weights=True)\n",
    "\n",
    "test_ppn = init_ppn(40, [18,128,9], random_weights=True)\n",
    "for i in range(200):\n",
    "    ppn = evolve(ppn, 0.1, 0.1, [18,128,9], 8, 0.4, 0.2, verbose=False)\n",
    "    if i%20==0: \n",
    "        print('Evolution round {}'.format(i))\n",
    "    \n",
    "scores = play_all_opponents(ppn)\n",
    "scores_sorted_idx = np.array(scores).argsort()[-1::-1]\n",
    "best_idx = scores_sorted_idx[0]\n",
    "nn_best = ppn[best_idx]"
   ]
  },
  {
   "cell_type": "code",
   "execution_count": 80,
   "metadata": {},
   "outputs": [
    {
     "name": "stdout",
     "output_type": "stream",
     "text": [
      "5 best scores are: [31, 29, 27, 27, 25]\n",
      "Best neural network evolved was ranked number 1 with a score of 31\n"
     ]
    }
   ],
   "source": [
    "#Round-robin match between best neural network selected after evolution, and 49 randomly generated networks\n",
    "rounb_robin_ppn = init_ppn(50, [18,128,9], random_weights=True)\n",
    "rounb_robin_ppn[0] = nn_best\n",
    "round_robin_res = play_all_opponents(rounb_robin_ppn)\n",
    "round_robin_res_sorted_idx = np.array(round_robin_res).argsort()[-1::-1]\n",
    "print('5 best scores are: {}'.format([round_robin_res[i] for i in round_robin_res_sorted_idx[0:5]]))\n",
    "print('Best neural network evolved was ranked number {} with a score of'\n",
    "      .format(np.where(round_robin_res_sorted_idx==0)[0][0]+1), round_robin_res[0])"
   ]
  },
  {
   "cell_type": "code",
   "execution_count": null,
   "metadata": {},
   "outputs": [],
   "source": []
  },
  {
   "cell_type": "code",
   "execution_count": 127,
   "metadata": {},
   "outputs": [],
   "source": [
    "#play a game against the selected neural network\n",
    "ttt = TicTacToe('X')"
   ]
  },
  {
   "cell_type": "code",
   "execution_count": 131,
   "metadata": {},
   "outputs": [
    {
     "name": "stdout",
     "output_type": "stream",
     "text": [
      " O | X |   \n",
      "-----------\n",
      " O | X |   \n",
      "-----------\n",
      " X | X | O \n",
      "\n",
      "X won\n"
     ]
    }
   ],
   "source": [
    "#player is X, and moves first\n",
    "ttt.make_move(2,1)\n",
    "print(ttt)\n",
    "time.sleep(2)\n",
    "if ttt.get_game_status()==0: \n",
    "    clear_output()\n",
    "    make_single_move(nn_best, ttt, verbose=True)"
   ]
  },
  {
   "cell_type": "code",
   "execution_count": null,
   "metadata": {
    "collapsed": true
   },
   "outputs": [],
   "source": []
  }
 ],
 "metadata": {
  "kernelspec": {
   "display_name": "Python [conda env:defaultenv]",
   "language": "python",
   "name": "conda-env-defaultenv-py"
  },
  "language_info": {
   "codemirror_mode": {
    "name": "ipython",
    "version": 3
   },
   "file_extension": ".py",
   "mimetype": "text/x-python",
   "name": "python",
   "nbconvert_exporter": "python",
   "pygments_lexer": "ipython3",
   "version": "3.6.3"
  }
 },
 "nbformat": 4,
 "nbformat_minor": 2
}
